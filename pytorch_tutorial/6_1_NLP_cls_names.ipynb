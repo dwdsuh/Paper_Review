{
 "cells": [
  {
   "cell_type": "markdown",
   "metadata": {},
   "source": [
    "[source](https://pytorch.org/tutorials/intermediate/seq2seq_translation_tutorial.html)"
   ]
  },
  {
   "cell_type": "code",
   "execution_count": 1,
   "metadata": {},
   "outputs": [
    {
     "name": "stdout",
     "output_type": "stream",
     "text": [
      "['nlp_data/data/names/Czech.txt', 'nlp_data/data/names/German.txt', 'nlp_data/data/names/Arabic.txt', 'nlp_data/data/names/Japanese.txt', 'nlp_data/data/names/Chinese.txt', 'nlp_data/data/names/Vietnamese.txt', 'nlp_data/data/names/Russian.txt', 'nlp_data/data/names/French.txt', 'nlp_data/data/names/Irish.txt', 'nlp_data/data/names/English.txt', 'nlp_data/data/names/Spanish.txt', 'nlp_data/data/names/Greek.txt', 'nlp_data/data/names/Italian.txt', 'nlp_data/data/names/Portuguese.txt', 'nlp_data/data/names/Scottish.txt', 'nlp_data/data/names/Dutch.txt', 'nlp_data/data/names/Korean.txt', 'nlp_data/data/names/Polish.txt']\n"
     ]
    }
   ],
   "source": [
    "from __future__ import unicode_literals, print_function, division\n",
    "\n",
    "from io import open\n",
    "import glob\n",
    "import os\n",
    "\n",
    "def findFiles(path):\n",
    "    return glob.glob(path)\n",
    "\n",
    "print(findFiles(\"nlp_data/data/names/*.txt\"))"
   ]
  },
  {
   "cell_type": "code",
   "execution_count": 4,
   "metadata": {},
   "outputs": [
    {
     "name": "stdout",
     "output_type": "stream",
     "text": [
      "Slusarski\n"
     ]
    }
   ],
   "source": [
    "import unicodedata\n",
    "import string\n",
    "\n",
    "all_letters = string.ascii_letters+ \".,:''\"\n",
    "n_letters = len(all_letters)\n",
    "\n",
    "def unicode_to_ascii(s):\n",
    "    return \"\".join(c for c in unicodedata.normalize(\"NFD\", s) \n",
    "                  if unicodedata.category(c) != \"Mn\" and c in all_letters)\n",
    "\n",
    "print(unicode_to_ascii(\"Ślusàrski\"))"
   ]
  },
  {
   "cell_type": "code",
   "execution_count": 7,
   "metadata": {},
   "outputs": [],
   "source": [
    "category_lines = {}\n",
    "all_category = []\n",
    "\n",
    "def read_lines(filename):\n",
    "    with open(filename, encoding = \"utf-8\") as f:\n",
    "        lines = f.read().strip().split(\"\\n\")\n",
    "    return [unicode_to_ascii(line) for line in lines]\n",
    "\n",
    "for filename in findFiles(\"nlp_data/data/names/*.txt\"):\n",
    "    category = os.path.splitext(os.path.basename(filename))[0]\n",
    "    all_category.append(category)\n",
    "    lines = read_lines(filename)\n",
    "    category_lines[category] = lines\n",
    "\n",
    "n_categories = len(all_category)"
   ]
  },
  {
   "cell_type": "code",
   "execution_count": 9,
   "metadata": {},
   "outputs": [
    {
     "data": {
      "text/plain": [
       "dict_keys(['Czech', 'German', 'Arabic', 'Japanese', 'Chinese', 'Vietnamese', 'Russian', 'French', 'Irish', 'English', 'Spanish', 'Greek', 'Italian', 'Portuguese', 'Scottish', 'Dutch', 'Korean', 'Polish'])"
      ]
     },
     "execution_count": 9,
     "metadata": {},
     "output_type": "execute_result"
    }
   ],
   "source": [
    "category_lines.keys()"
   ]
  },
  {
   "cell_type": "code",
   "execution_count": 10,
   "metadata": {},
   "outputs": [
    {
     "data": {
      "text/plain": [
       "{'Czech': 519,\n",
       " 'German': 724,\n",
       " 'Arabic': 2000,\n",
       " 'Japanese': 991,\n",
       " 'Chinese': 268,\n",
       " 'Vietnamese': 73,\n",
       " 'Russian': 9408,\n",
       " 'French': 277,\n",
       " 'Irish': 232,\n",
       " 'English': 3668,\n",
       " 'Spanish': 298,\n",
       " 'Greek': 203,\n",
       " 'Italian': 709,\n",
       " 'Portuguese': 74,\n",
       " 'Scottish': 100,\n",
       " 'Dutch': 297,\n",
       " 'Korean': 94,\n",
       " 'Polish': 139}"
      ]
     },
     "execution_count": 10,
     "metadata": {},
     "output_type": "execute_result"
    }
   ],
   "source": [
    "count_dict = {}\n",
    "for i in category_lines.keys():\n",
    "    count_dict[i] = len(category_lines[i])\n",
    "count_dict"
   ]
  },
  {
   "cell_type": "code",
   "execution_count": 12,
   "metadata": {},
   "outputs": [
    {
     "name": "stdout",
     "output_type": "stream",
     "text": [
      "tensor([[0., 0., 0., 0., 0., 0., 0., 0., 0., 0., 0., 0., 0., 0., 0., 0., 0., 0.,\n",
      "         0., 0., 0., 0., 0., 0., 0., 0., 0., 0., 0., 0., 0., 0., 0., 0., 0., 1.,\n",
      "         0., 0., 0., 0., 0., 0., 0., 0., 0., 0., 0., 0., 0., 0., 0., 0., 0., 0.,\n",
      "         0., 0., 0.]])\n",
      "torch.Size([5, 1, 57])\n"
     ]
    }
   ],
   "source": [
    "import torch\n",
    "\n",
    "def letterToIndex(letter):\n",
    "    return all_letters.find(letter)\n",
    "\n",
    "def letterToTensor(letter):\n",
    "    tensor = torch.zeros(1, n_letters)\n",
    "    tensor[0][letterToIndex(letter)] = 1\n",
    "    return tensor\n",
    "\n",
    "def lineToTensor(line):\n",
    "    tensor = torch.zeros(len(line), 1, n_letters)\n",
    "    for li, letter in enumerate(line):\n",
    "        tensor[li][0][letterToIndex(letter)] = 1\n",
    "    return tensor\n",
    "\n",
    "print(letterToTensor(\"J\"))\n",
    "print(lineToTensor(\"Jones\").size())"
   ]
  },
  {
   "cell_type": "markdown",
   "metadata": {},
   "source": [
    "## Build Model"
   ]
  },
  {
   "cell_type": "code",
   "execution_count": 46,
   "metadata": {},
   "outputs": [],
   "source": [
    "import torch.nn as nn\n",
    "\n",
    "class RNN(nn.Module):\n",
    "    def __init__(self, input_size, hidden_size, output_size):\n",
    "        super(RNN, self).__init__()\n",
    "        \n",
    "        self.hidden_size = hidden_size\n",
    "        self.i2h = nn.Linear(input_size + hidden_size, hidden_size)\n",
    "        self.i20 = nn.Linear(input_size + hidden_size, output_size)\n",
    "        self.softmax = nn.LogSoftmax(dim = 1)\n",
    "        \n",
    "    def forward(self, input, hidden):\n",
    "        combined = torch.cat((input, hidden), 1)\n",
    "        hidden = self.i2h(combined)\n",
    "        output = self.i20(combined)\n",
    "        output = self.softmax(output)\n",
    "        return output, hidden\n",
    "    \n",
    "    def initHidden(self):\n",
    "        return torch.zeros(1, self.hidden_size)\n",
    "    \n",
    "n_hidden = 128\n",
    "rnn = RNN(n_letters, n_hidden, n_categories)        "
   ]
  },
  {
   "cell_type": "code",
   "execution_count": 19,
   "metadata": {},
   "outputs": [
    {
     "name": "stdout",
     "output_type": "stream",
     "text": [
      "tensor([[-2.9420, -2.9145, -2.8178, -2.8865, -2.9902, -2.9545, -2.7911, -2.8570,\n",
      "         -2.8888, -2.8712, -2.9051, -2.8526, -2.9584, -2.8239, -2.9617, -2.9148,\n",
      "         -2.8442, -2.8785]], grad_fn=<LogSoftmaxBackward>)\n"
     ]
    }
   ],
   "source": [
    "input = letterToTensor(\"A\")\n",
    "hidden = torch.zeros(1, n_hidden)\n",
    "\n",
    "output, next_hidden = rnn(input, hidden)\n",
    "print(output)"
   ]
  },
  {
   "cell_type": "markdown",
   "metadata": {},
   "source": [
    "## Training"
   ]
  },
  {
   "cell_type": "code",
   "execution_count": 20,
   "metadata": {},
   "outputs": [
    {
     "name": "stdout",
     "output_type": "stream",
     "text": [
      "('Russian', 6)\n"
     ]
    }
   ],
   "source": [
    "def category_from_output(output):\n",
    "    top_n, top_i = output.topk(1)\n",
    "    category_i = top_i[0].item()\n",
    "    return all_category[category_i], category_i\n",
    "\n",
    "print(category_from_output(output))"
   ]
  },
  {
   "cell_type": "code",
   "execution_count": 30,
   "metadata": {},
   "outputs": [
    {
     "name": "stdout",
     "output_type": "stream",
     "text": [
      "Japanese / Ouchi\n",
      "Italian / Robustelli\n",
      "Chinese / Quan\n",
      "Dutch / Akkeren\n",
      "Greek / Malihoudis\n",
      "Czech / Urbanek\n",
      "Irish / O'Doherty\n",
      "German / Bosch\n",
      "Chinese / Bao\n",
      "Vietnamese / Tron\n"
     ]
    }
   ],
   "source": [
    "import random\n",
    "\n",
    "def randomChoice(l):  #choosing one element from the list\n",
    "    return l[random.randint(0, len(l)-1)]\n",
    "\n",
    "def randomTrainingExample():\n",
    "    category = randomChoice(all_category)\n",
    "    line = randomChoice(category_lines[category])\n",
    "    category_tensor = torch.tensor([all_category.index(category)], dtype = torch.long)\n",
    "    line_tensor = lineToTensor(line)\n",
    "    return category, line, category_tensor, line_tensor \n",
    "\n",
    "for i in range(10):\n",
    "    c, l, c_t, l_t = randomTrainingExample()\n",
    "    print(c, \"/\", l)"
   ]
  },
  {
   "cell_type": "code",
   "execution_count": 31,
   "metadata": {},
   "outputs": [],
   "source": [
    "criterion = nn.NLLLoss()"
   ]
  },
  {
   "cell_type": "code",
   "execution_count": 47,
   "metadata": {},
   "outputs": [],
   "source": [
    "learning_rate = 0.001\n",
    "\n",
    "def train(category_tensor, line_tensor):\n",
    "    hidden = rnn.initHidden()\n",
    "    rnn.zero_grad()\n",
    "    for i in range(line_tensor.size()[0]):\n",
    "        output, hidden = rnn(line_tensor[i], hidden)\n",
    "        \n",
    "    loss = criterion(output, category_tensor)\n",
    "    loss.backward()\n",
    "    \n",
    "    for p in rnn.parameters():\n",
    "        p.data.add_(-learning_rate * p.grad.data)\n",
    "    \n",
    "    return output, loss.item()    "
   ]
  },
  {
   "cell_type": "code",
   "execution_count": 48,
   "metadata": {},
   "outputs": [
    {
     "name": "stdout",
     "output_type": "stream",
     "text": [
      "5000 5% (0m 5s) 2.8375 Rompa / Czech 땡 (Dutch)\n",
      "10000 10% (0m 11s) 2.9030 Che / Scottish 땡 (Chinese)\n",
      "15000 15% (0m 16s) 2.7892 Jizdik / Czech 땡 (Russian)\n",
      "20000 20% (0m 22s) 2.4338 Winter / German 정답\n",
      "25000 25% (0m 27s) 2.6184 Ochoa / Arabic 땡 (Spanish)\n",
      "30000 30% (0m 33s) 1.2800 Tassioglou / Russian 땡 (Greek)\n",
      "35000 35% (0m 38s) 2.4441 Veitch / Irish 땡 (English)\n",
      "40000 40% (0m 44s) 1.8677 Le / Korean 땡 (Vietnamese)\n",
      "45000 45% (0m 50s) 3.0580 Truong / Arabic 땡 (Vietnamese)\n",
      "50000 50% (0m 55s) 2.4127 Hegney / Dutch 땡 (English)\n",
      "55000 55% (1m 0s) 1.8044 Milligan / Irish 정답\n",
      "60000 60% (1m 6s) 3.4937 Till / Vietnamese 땡 (Czech)\n",
      "65000 65% (1m 12s) 4.1148 Wong / Chinese 땡 (English)\n",
      "70000 70% (1m 17s) 1.3555 Kruger / German 정답\n",
      "75000 75% (1m 22s) 2.9787 Sastre / French 땡 (Spanish)\n",
      "80000 80% (1m 28s) 1.1704 Anderson / Scottish 정답\n",
      "85000 85% (1m 33s) 2.8012 Solo / Korean 땡 (Spanish)\n",
      "90000 90% (1m 38s) 1.3042 Chun / Korean 정답\n",
      "95000 95% (1m 44s) 1.5611 Shoda / Japanese 정답\n",
      "100000 100% (1m 49s) 1.7075 Antoun / Irish 땡 (Arabic)\n"
     ]
    }
   ],
   "source": [
    "import time\n",
    "import math\n",
    "\n",
    "n_iter = 100000\n",
    "print_every = 5000\n",
    "plot_every = 1000\n",
    "\n",
    "current_loss = 0\n",
    "all_loss = []\n",
    "\n",
    "def timeSince(since):\n",
    "    now = time.time()\n",
    "    s = now - since\n",
    "    m = math.floor(s/60)\n",
    "    s -= m*60\n",
    "    return \"%dm %ds\" %(m,s)\n",
    "\n",
    "start = time.time()\n",
    "\n",
    "for iter in range(1, n_iter+1):\n",
    "    c, l, c_t, l_t = randomTrainingExample()\n",
    "    output, loss = train(c_t, l_t)\n",
    "    current_loss +=loss\n",
    "    \n",
    "    if iter % print_every == 0:\n",
    "        g, g_i = category_from_output(output)\n",
    "        correct = \"정답\" if g == c else '땡 (' + c + \")\"\n",
    "        print('%d %d%% (%s) %.4f %s / %s %s' \n",
    "              % (iter, iter / n_iter * 100, timeSince(start), loss, l, g, correct))\n",
    "\n",
    "    if iter % plot_every == 0:\n",
    "        all_loss.append(current_loss/plot_every)\n",
    "        current_loss = 0"
   ]
  },
  {
   "cell_type": "code",
   "execution_count": 50,
   "metadata": {},
   "outputs": [
    {
     "data": {
      "image/png": "[encoded data removed]",
      "text/plain": [
       "<Figure size 432x288 with 1 Axes>"
      ]
     },
     "metadata": {
      "needs_background": "light"
     },
     "output_type": "display_data"
    }
   ],
   "source": [
    "import matplotlib.pyplot as plt\n",
    "import matplotlib.ticker as ticker\n",
    "\n",
    "plt.figure()\n",
    "plt.plot(all_loss)\n",
    "plt.show()"
   ]
  },
  {
   "cell_type": "code",
   "execution_count": null,
   "metadata": {},
   "outputs": [],
   "source": []
  }
 ],
 "metadata": {
  "kernelspec": {
   "display_name": "Python 3",
   "language": "python",
   "name": "python3"
  },
  "language_info": {
   "codemirror_mode": {
    "name": "ipython",
    "version": 3
   },
   "file_extension": ".py",
   "mimetype": "text/x-python",
   "name": "python",
   "nbconvert_exporter": "python",
   "pygments_lexer": "ipython3",
   "version": "3.7.3"
  }
 },
 "nbformat": 4,
 "nbformat_minor": 2
}
