{
 "cells": [
  {
   "cell_type": "code",
   "execution_count": 1,
   "metadata": {},
   "outputs": [],
   "source": [
    "a = [i for i in range(20)]"
   ]
  },
  {
   "cell_type": "code",
   "execution_count": 2,
   "metadata": {},
   "outputs": [
    {
     "data": {
      "text/plain": [
       "[2, 5, 8, 11, 14, 17]"
      ]
     },
     "execution_count": 2,
     "metadata": {},
     "output_type": "execute_result"
    }
   ],
   "source": [
    "a[2::3]"
   ]
  },
  {
   "cell_type": "code",
   "execution_count": 6,
   "metadata": {},
   "outputs": [],
   "source": [
    "import torch\n",
    "import math\n",
    "d_model = 16\n",
    "\n",
    "div_term = torch.exp(torch.arange(0, d_model, 2).float() * (- math.log(10000.0) / d_model))"
   ]
  },
  {
   "cell_type": "code",
   "execution_count": 11,
   "metadata": {},
   "outputs": [],
   "source": []
  },
  {
   "cell_type": "code",
   "execution_count": 58,
   "metadata": {},
   "outputs": [],
   "source": [
    "s = '''- informMarket\n",
    "- informMarketChgCompany\n",
    "- informMarketIndex\n",
    "- informMarketIndexChgDate\n",
    "- informMarketIndexChgMarket\n",
    "- informRank\n",
    "- informRankChgCompany\n",
    "- informRankChgDate\n",
    "- informStockPrice\n",
    "- informStockPriceChgCompany\n",
    "- informStockPriceChgDate\n",
    "- informStockPriceFromRecentInfo\n",
    "- informTotalPrice\n",
    "- informTotalPriceChgCompany\n",
    "- informTotalPriceChgDate\n",
    "- informTotalPriceFromRecentInfo\n",
    "- infromRankFromRecentInfo\n",
    "- statusTrading\n",
    "- statusTradingChgMarket'''"
   ]
  },
  {
   "cell_type": "code",
   "execution_count": 59,
   "metadata": {},
   "outputs": [],
   "source": [
    "s = s.split(\"\\n\")"
   ]
  },
  {
   "cell_type": "code",
   "execution_count": 60,
   "metadata": {},
   "outputs": [
    {
     "data": {
      "text/plain": [
       "['- informMarket',\n",
       " '- informMarketChgCompany',\n",
       " '- informMarketIndex',\n",
       " '- informMarketIndexChgDate',\n",
       " '- informMarketIndexChgMarket',\n",
       " '- informRank',\n",
       " '- informRankChgCompany',\n",
       " '- informRankChgDate',\n",
       " '- informStockPrice',\n",
       " '- informStockPriceChgCompany',\n",
       " '- informStockPriceChgDate',\n",
       " '- informStockPriceFromRecentInfo',\n",
       " '- informTotalPrice',\n",
       " '- informTotalPriceChgCompany',\n",
       " '- informTotalPriceChgDate',\n",
       " '- informTotalPriceFromRecentInfo',\n",
       " '- infromRankFromRecentInfo',\n",
       " '- statusTrading',\n",
       " '- statusTradingChgMarket']"
      ]
     },
     "execution_count": 60,
     "metadata": {},
     "output_type": "execute_result"
    }
   ],
   "source": [
    "s"
   ]
  },
  {
   "cell_type": "code",
   "execution_count": 61,
   "metadata": {},
   "outputs": [],
   "source": [
    "for i in range(len(s)):\n",
    "    s[i] = s[i][2:]"
   ]
  },
  {
   "cell_type": "code",
   "execution_count": 62,
   "metadata": {},
   "outputs": [
    {
     "data": {
      "text/plain": [
       "['informMarket',\n",
       " 'informMarketChgCompany',\n",
       " 'informMarketIndex',\n",
       " 'informMarketIndexChgDate',\n",
       " 'informMarketIndexChgMarket',\n",
       " 'informRank',\n",
       " 'informRankChgCompany',\n",
       " 'informRankChgDate',\n",
       " 'informStockPrice',\n",
       " 'informStockPriceChgCompany',\n",
       " 'informStockPriceChgDate',\n",
       " 'informStockPriceFromRecentInfo',\n",
       " 'informTotalPrice',\n",
       " 'informTotalPriceChgCompany',\n",
       " 'informTotalPriceChgDate',\n",
       " 'informTotalPriceFromRecentInfo',\n",
       " 'infromRankFromRecentInfo',\n",
       " 'statusTrading',\n",
       " 'statusTradingChgMarket']"
      ]
     },
     "execution_count": 62,
     "metadata": {},
     "output_type": "execute_result"
    }
   ],
   "source": [
    "s"
   ]
  },
  {
   "cell_type": "code",
   "execution_count": 63,
   "metadata": {},
   "outputs": [
    {
     "name": "stdout",
     "output_type": "stream",
     "text": [
      "informMarket                            : 10\n",
      "informMarketChgCompany                  : 10\n",
      "informMarketIndex                       : 10\n",
      "informMarketIndexChgDate                : 10\n",
      "informMarketIndexChgMarket              : 10\n",
      "informRank                              : 10\n",
      "informRankChgCompany                    : 10\n",
      "informRankChgDate                       : 10\n",
      "informStockPrice                        : 10\n",
      "informStockPriceChgCompany              : 10\n",
      "informStockPriceChgDate                 : 10\n",
      "informStockPriceFromRecentInfo          : 10\n",
      "informTotalPrice                        : 10\n",
      "informTotalPriceChgCompany              : 10\n",
      "informTotalPriceChgDate                 : 10\n",
      "informTotalPriceFromRecentInfo          : 10\n",
      "infromRankFromRecentInfo                : 10\n",
      "statusTrading                           : 10\n",
      "statusTradingChgMarket                  : 10\n"
     ]
    }
   ],
   "source": [
    "for i in s:\n",
    "    i += \" \"*(40- len(i)) +\": 10\"\n",
    "    print(i)"
   ]
  },
  {
   "cell_type": "code",
   "execution_count": 54,
   "metadata": {},
   "outputs": [
    {
     "data": {
      "text/plain": [
       "'올랐어, 올라갔어, 올랐지, 올랐나, 상승했어, 상승했지, 상승, 올랐는지, ${알려줘::xclue_inform}, 상승했는지 ${알려줘::xclue_inform},            떨어졌어, 내려갔어, 내렸어, 내려갔지, 하락했어, 하락, 하락했지,             떨어졌는지 ${알려줘::xclue_inform}, 내렸는지 ${알려줘::xclue_inform}, 내려갔는지 ${알려줘::xclue_inform},             하락했는지 ${알려줘::xclue_inform},            선방 중이야, 선방하고 있어, 선방하고 있는지 ${알려줘::xclue_inform}, 괜찮아, 괜찮지, 괜찮은지 ${알려줘::xclue_inform}'"
      ]
     },
     "execution_count": 54,
     "metadata": {},
     "output_type": "execute_result"
    }
   ],
   "source": [
    "s = '''올랐어, 올라갔어, 올랐지, 올랐나, 상승했어, 상승했지, 상승, 올랐는지, ${알려줘::xclue_inform}, 상승했는지 ${알려줘::xclue_inform},\n",
    "            떨어졌어, 내려갔어, 내렸어, 내려갔지, 하락했어, 하락, 하락했지, \n",
    "            떨어졌는지 ${알려줘::xclue_inform}, 내렸는지 ${알려줘::xclue_inform}, 내려갔는지 ${알려줘::xclue_inform}, \n",
    "            하락했는지 ${알려줘::xclue_inform},\n",
    "            선방 중이야, 선방하고 있어, 선방하고 있는지 ${알려줘::xclue_inform}, 괜찮아, 괜찮지, 괜찮은지 ${알려줘::xclue_inform}'''\n",
    "s = s.replace(\"\\n\", \"\", 10)\n",
    "s"
   ]
  },
  {
   "cell_type": "code",
   "execution_count": 55,
   "metadata": {},
   "outputs": [
    {
     "name": "stdout",
     "output_type": "stream",
     "text": [
      "올랐어\n",
      "올라갔어\n",
      "올랐지\n",
      "올랐나\n",
      "상승했어\n",
      "상승했지\n",
      "상승\n",
      "올랐는지\n",
      "${알려줘::xclue_inform}\n",
      "상승했는지 ${알려줘::xclue_inform}\n",
      "떨어졌어\n",
      "내려갔어\n",
      "내렸어\n",
      "내려갔지\n",
      "하락했어\n",
      "하락\n",
      "하락했지\n",
      "떨어졌는지 ${알려줘::xclue_inform}\n",
      "내렸는지 ${알려줘::xclue_inform}\n",
      "내려갔는지 ${알려줘::xclue_inform}\n",
      "하락했는지 ${알려줘::xclue_inform}\n",
      "선방 중이야\n",
      "선방하고 있어\n",
      "선방하고 있는지 ${알려줘::xclue_inform}\n",
      "괜찮아\n",
      "괜찮지\n",
      "괜찮은지 ${알려줘::xclue_inform}\n"
     ]
    }
   ],
   "source": [
    "s = s.split(', ')\n",
    "s_list = []\n",
    "for i in s:\n",
    "    try: \n",
    "        i = i.remove(\"\\n\")\n",
    "    except:\n",
    "        pass\n",
    "    i = i.strip(\" \")\n",
    "    s_list.append(\"- \"+i)\n",
    "    print(i)"
   ]
  },
  {
   "cell_type": "code",
   "execution_count": 57,
   "metadata": {},
   "outputs": [
    {
     "name": "stdout",
     "output_type": "stream",
     "text": [
      "- 올랐어\n",
      "- 올라갔어\n",
      "- 올랐지\n",
      "- 올랐나\n",
      "- 상승했어\n",
      "- 상승했지\n",
      "- 상승\n",
      "- 올랐는지\n",
      "- ${알려줘::xclue_inform}\n",
      "- 상승했는지 ${알려줘::xclue_inform}\n",
      "- 떨어졌어\n",
      "- 내려갔어\n",
      "- 내렸어\n",
      "- 내려갔지\n",
      "- 하락했어\n",
      "- 하락\n",
      "- 하락했지\n",
      "- 떨어졌는지 ${알려줘::xclue_inform}\n",
      "- 내렸는지 ${알려줘::xclue_inform}\n",
      "- 내려갔는지 ${알려줘::xclue_inform}\n",
      "- 하락했는지 ${알려줘::xclue_inform}\n",
      "- 선방 중이야\n",
      "- 선방하고 있어\n",
      "- 선방하고 있는지 ${알려줘::xclue_inform}\n",
      "- 괜찮아\n",
      "- 괜찮지\n",
      "- 괜찮은지 ${알려줘::xclue_inform}\n"
     ]
    }
   ],
   "source": [
    "for i in s_list:\n",
    "    print(i)"
   ]
  },
  {
   "cell_type": "code",
   "execution_count": null,
   "metadata": {},
   "outputs": [],
   "source": []
  }
 ],
 "metadata": {
  "kernelspec": {
   "display_name": "Python 3",
   "language": "python",
   "name": "python3"
  },
  "language_info": {
   "codemirror_mode": {
    "name": "ipython",
    "version": 3
   },
   "file_extension": ".py",
   "mimetype": "text/x-python",
   "name": "python",
   "nbconvert_exporter": "python",
   "pygments_lexer": "ipython3",
   "version": "3.7.3"
  }
 },
 "nbformat": 4,
 "nbformat_minor": 2
}
